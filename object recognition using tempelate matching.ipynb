{
 "cells": [
  {
   "attachments": {},
   "cell_type": "markdown",
   "id": "71ef339d",
   "metadata": {},
   "source": []
  },
  {
   "cell_type": "code",
   "execution_count": 13,
   "id": "821b1043",
   "metadata": {},
   "outputs": [],
   "source": [
    "import cv2\n",
    "import numpy as np\n",
    "from matplotlib import pyplot as plt\n",
    "\n",
    "img=cv2.imread(r\"E:\\popo.jpg\")\n",
    "\n",
    "img_gray=cv2.cvtColor(img,cv2.COLOR_BGR2GRAY)\n",
    "\n",
    "tempelate=cv2.imread(r\"E:\\iuiouiouu.jpg\",cv2.IMREAD_GRAYSCALE)\n",
    "\n",
    "result=cv2.matchTemplate(img_gray,tempelate,cv2.TM_CCOEFF_NORMED)\n",
    "\n",
    "locat=np.where(result>=0.9)\n",
    "h,w=tempelate.shape[::]\n",
    "\n",
    "for pix in zip(locat[1],locat[0]):\n",
    "    \n",
    "    cv2.rectangle(img,pix,(pix[0] + w, pix[1] + h),(0,0,255),3)\n",
    "    \n",
    "\n",
    "cv2.imshow(\"image\", img)\n",
    "cv2.waitKey(0)\n",
    "cv2.destroyAllWindows()"
   ]
  }
 ],
 "metadata": {
  "kernelspec": {
   "display_name": "Python 3 (ipykernel)",
   "language": "python",
   "name": "python3"
  },
  "language_info": {
   "codemirror_mode": {
    "name": "ipython",
    "version": 3
   },
   "file_extension": ".py",
   "mimetype": "text/x-python",
   "name": "python",
   "nbconvert_exporter": "python",
   "pygments_lexer": "ipython3",
   "version": "3.9.13"
  }
 },
 "nbformat": 4,
 "nbformat_minor": 5
}
